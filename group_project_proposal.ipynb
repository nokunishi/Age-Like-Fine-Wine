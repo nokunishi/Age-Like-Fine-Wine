{
 "cells": [
  {
   "cell_type": "markdown",
   "metadata": {},
   "source": [
    "## Title\n",
    "Examining the Effects of Alcohol and Sulfur Dioxide Contents on the Quality of Red Wine"
   ]
  },
  {
   "cell_type": "markdown",
   "metadata": {},
   "source": [
    "## Introduction\n",
    "Red wine is not just any beverage. With physiological benefits, red wine can prevent heart disease and contains antioxidants. Although the drunk experience derives from alcohol content, red wine contains sulfur dioxide that may affect the respiratory system but stall oxidation and microbial spoilage and alcohol density that calculates how much alcohol is in a given volume. Inspired by the aforementioned research, we extracted a Wine Quality Data Set for a Portuguese red wine variant, Vinho Verde, the sample for the general red wine. Hence, we aim to answer this question in our classification project: Do alcohol, sulfur dioxide, and density affect the quality of red wine? "
   ]
  },
  {
   "cell_type": "markdown",
   "metadata": {},
   "source": [
    "## Preliminary exploratory data analysis"
   ]
  },
  {
   "cell_type": "code",
   "execution_count": null,
   "metadata": {},
   "outputs": [],
   "source": [
    "library(tidyverse)\n",
    "library(repr)\n",
    "library(tidymodels)\n",
    "options(repr.matrix.max.rows = 6)\n",
    "#source('tests.R')\n",
    "#source('cleanup.R')"
   ]
  },
  {
   "cell_type": "code",
   "execution_count": null,
   "metadata": {},
   "outputs": [],
   "source": [
    "#untidy data set \n",
    "redwine <- read_delim(\"data/winequality-red.csv\", delim = \";\")\n",
    "\n",
    "#change the numeric quality into 'good' (if the numeric quality is greater than 5) and \n",
    "#'bad' (if the numeric quality is less or equal to 5)\n",
    "good_redwine <- redwine %>%\n",
    "    filter(quality > 5) %>%\n",
    "    mutate(quality = \"good\")\n",
    "bad_redwine <- redwine %>%\n",
    "    filter(quality <= 5) %>%\n",
    "    mutate(quality = \"bad\") \n",
    "redwine_new <- rbind(good_redwine, bad_redwine)\n",
    "redwine_new"
   ]
  },
  {
   "cell_type": "code",
   "execution_count": null,
   "metadata": {},
   "outputs": [],
   "source": [
    "#we see that the 'quality' variable is of type character. \n",
    "#We change this to type factor\n",
    "\n",
    "redwine_newfct <- redwine_new %>%\n",
    "    mutate(quality = as_factor(quality))\n",
    "\n",
    "#To ensure that there are only two levels ('good' and 'bad') in the 'quality' column,  we use the 'levels' function. \n",
    "#The reason for this is because there are many rows that are not shown in the table, which suggests \n",
    "#uncertainty as to what exactly the 'quality' column contains.\n",
    " \n",
    "redwine_newfct %>%\n",
    "    pull(quality) %>%\n",
    "    levels()"
   ]
  },
  {
   "cell_type": "code",
   "execution_count": null,
   "metadata": {},
   "outputs": [],
   "source": [
    "\n",
    "\n",
    "\n",
    "#This is our unscaled training data set\n",
    "\n",
    "set.seed(2402)\n",
    "\n",
    "redwine_split <- initial_split(redwine_newfct, prop = 0.6, strata = quality)\n",
    "redwine_train <- training(redwine_split)\n",
    "redwine_test <- testing (redwine_split)\n",
    "\n",
    "\n",
    "#We renamed the columns of the redwine_recipe dataset so that the column names use underscores\n",
    "\n",
    "redwine_train <- redwine_train %>%\n",
    "rename(fixed_acidity = \"fixed acidity\",\n",
    "      volatile_acidity = \"volatile acidity\",\n",
    "      citric_acid = \"citric acid\",\n",
    "      residual_sugar = \"residual sugar\",\n",
    "      free_sulfur_dioxide = \"free sulfur dioxide\",\n",
    "      total_sulfur_dioxide = \"total sulfur dioxide\")\n",
    "\n",
    "\n",
    "#This is the summary data set of the tidy redwine data set. \n",
    "#Each value represent the mean value of all the values in that column. \n",
    "\n",
    "redwine_summary <- redwine_train %>%\n",
    "map_df(mean)\n",
    "\n",
    "redwine_summary "
   ]
  },
  {
   "cell_type": "code",
   "execution_count": null,
   "metadata": {},
   "outputs": [],
   "source": [
    "redwine_num_obs <- nrow(redwine_train) \n",
    "redwine_train %>%\n",
    "    group_by(quality) %>%\n",
    "    summarize(count = n(),\n",
    "             percentage = n() / redwine_num_obs * 100)"
   ]
  },
  {
   "cell_type": "markdown",
   "metadata": {},
   "source": [
    "From this, we see that the proportion of good and bad quality are roughly the same. Therefore, oversampling is unnecessary. "
   ]
  },
  {
   "cell_type": "markdown",
   "metadata": {},
   "source": [
    "Using the training data set values, we establish the following graphs by keeping 'alcohol' on the y-axis and changing the x-axis. We hypothesized that alcohol is a good predictor variable from the' mod' table. Hence, we varied the x-axis to observe whether variables exhibit a good pattern when 'alcohol' is plotted against them. "
   ]
  },
  {
   "cell_type": "code",
   "execution_count": null,
   "metadata": {},
   "outputs": [],
   "source": [
    "fixed_acidity_alcohol <- redwine_train %>%\n",
    "    ggplot(aes(x = fixed_acidity, y = alcohol, color = quality)) +\n",
    "    geom_point(alpha = 0.8, size = 3) +\n",
    "    labs(x = \"Fixed Acidity\", \n",
    "         y = \"Alcohol\",\n",
    "         color = \"Quality\") +\n",
    "    scale_color_manual(values = c(\"green\", \"red\")) +\n",
    "    theme(text = element_text(size = 15)) +\n",
    "ggtitle(\"Alcohol vs Fixed Acidity\")\n",
    "fixed_acidity_alcohol"
   ]
  },
  {
   "cell_type": "code",
   "execution_count": null,
   "metadata": {},
   "outputs": [],
   "source": [
    "volatile_acidity_alcohol <- redwine_train %>%\n",
    "    ggplot(aes(x = volatile_acidity, y = alcohol, color = quality)) +\n",
    "    geom_point(alpha = 0.8, size = 3) +\n",
    "    labs(x = \"volatile acidity\", \n",
    "         y = \"alcohol\",\n",
    "         color = \"Quality\") +\n",
    "    scale_color_manual(values = c(\"green\", \"red\")) +\n",
    "    theme(text = element_text(size = 15)) +\n",
    "ggtitle(\"Alcohol vs Volatile Acidity\")\n",
    "volatile_acidity_alcohol"
   ]
  },
  {
   "cell_type": "code",
   "execution_count": null,
   "metadata": {},
   "outputs": [],
   "source": [
    "citric_acid_alcohol <- redwine_train %>%\n",
    "    ggplot(aes(x = citric_acid, y = alcohol, color = quality)) +\n",
    "    geom_point(alpha = 0.8, size = 3) +\n",
    "    labs(x = \"Citric Acid\", \n",
    "         y = \"Alcohol\",\n",
    "         color = \"Quality\") +\n",
    "    scale_color_manual(values = c(\"green\", \"red\")) +\n",
    "    theme(text = element_text(size = 15)) +\n",
    "ggtitle(\"Alcohol vs Citric Acid\")\n",
    "citric_acid_alcohol"
   ]
  },
  {
   "cell_type": "code",
   "execution_count": null,
   "metadata": {},
   "outputs": [],
   "source": [
    "residual_sugar_alcohol <- redwine_train %>%\n",
    "    ggplot(aes(x = residual_sugar, y = alcohol, color = quality)) +\n",
    "    geom_point(alpha = 0.8, size = 3) +\n",
    "    labs(x = \"Residual Sugar\", \n",
    "         y = \"Alcohol\",\n",
    "         color = \"Quality\") +\n",
    "    scale_color_manual(values = c(\"green\", \"red\")) +\n",
    "    theme(text = element_text(size = 15)) +\n",
    "ggtitle(\"Alcohol vs Residual Sugar\")\n",
    "residual_sugar_alcohol"
   ]
  },
  {
   "cell_type": "code",
   "execution_count": null,
   "metadata": {},
   "outputs": [],
   "source": [
    "chlorides_alcohol <- redwine_train %>%\n",
    "    ggplot(aes(x = chlorides, y = alcohol, color = quality)) +\n",
    "    geom_point(alpha = 0.8, size = 3) +\n",
    "    labs(x = \"Chlorides\", \n",
    "         y = \"Alcohol\",\n",
    "         color = \"Quality\") +\n",
    "    scale_color_manual(values = c(\"green\", \"red\")) +\n",
    "    theme(text = element_text(size = 15)) +\n",
    "ggtitle(\"Alcohol vs Chlorides\")\n",
    "chlorides_alcohol"
   ]
  },
  {
   "cell_type": "code",
   "execution_count": null,
   "metadata": {},
   "outputs": [],
   "source": [
    "free_sulfur_dioxide_alcohol <- redwine_train %>%\n",
    "    ggplot(aes(x = free_sulfur_dioxide, y = alcohol, color = quality)) +\n",
    "    geom_point(alpha = 0.8, size = 3) +\n",
    "    labs(x = \"Free Sulfur Dioxide\", \n",
    "         y = \"Alcohol\",\n",
    "         color = \"Quality\") +\n",
    "    scale_color_manual(values = c(\"green\", \"red\")) +\n",
    "    theme(text = element_text(size = 15)) +\n",
    "ggtitle(\"Alcohol vs Free Sulfur Dioxide\")\n",
    "free_sulfur_dioxide_alcohol"
   ]
  },
  {
   "cell_type": "code",
   "execution_count": null,
   "metadata": {},
   "outputs": [],
   "source": [
    "total_sulfur_dioxide_alcohol <- redwine_train %>%\n",
    "    ggplot(aes(x = total_sulfur_dioxide, y = alcohol, color = quality)) +\n",
    "    geom_point(alpha = 0.8, size = 3) +\n",
    "    labs(x = \"Total Sulfur Dioxide\", \n",
    "         y = \"Alcohol\",\n",
    "         color = \"Quality\") +\n",
    "    scale_color_manual(values = c(\"green\", \"red\")) +\n",
    "    theme(text = element_text(size = 15)) +\n",
    "ggtitle(\"Alcohol vs Total Sulfur Dioxide\")\n",
    "total_sulfur_dioxide_alcohol"
   ]
  },
  {
   "cell_type": "code",
   "execution_count": null,
   "metadata": {},
   "outputs": [],
   "source": [
    "density_alcohol <- redwine_train %>%\n",
    "    ggplot(aes(x = density, y = alcohol, color = quality)) +\n",
    "    geom_point(alpha = 0.8, size = 3) +\n",
    "    labs(x = \"Density\", \n",
    "         y = \"Alcohol\",\n",
    "         color = \"Quality\") +\n",
    "    scale_color_manual(values = c(\"green\", \"red\")) +\n",
    "    theme(text = element_text(size = 15))+\n",
    "ggtitle(\"Alcohol vs Density\")\n",
    "density_alcohol"
   ]
  },
  {
   "cell_type": "code",
   "execution_count": null,
   "metadata": {},
   "outputs": [],
   "source": [
    "pH_alcohol <- redwine_train %>%\n",
    "    ggplot(aes(x = pH, y = alcohol, color = quality)) +\n",
    "    geom_point(alpha = 0.8, size = 3) +\n",
    "    labs(x = \"pH\", \n",
    "         y = \"Alcohol\",\n",
    "         color = \"Quality\") +\n",
    "    scale_color_manual(values = c(\"green\", \"red\")) +\n",
    "    theme(text = element_text(size = 15)) +\n",
    "ggtitle(\"Alcohol vs pH\")\n",
    "\n",
    "pH_alcohol"
   ]
  },
  {
   "cell_type": "code",
   "execution_count": null,
   "metadata": {},
   "outputs": [],
   "source": [
    "sulphates_alcohol <- redwine_train %>%\n",
    "    ggplot(aes(x = sulphates, y = alcohol, color = quality)) +\n",
    "    geom_point(alpha = 0.8, size = 3) +\n",
    "    labs(x = \"Sulphates\", \n",
    "         y = \"Alcohol\",\n",
    "         color = \"Quality\") +\n",
    "    scale_color_manual(values = c(\"green\", \"red\")) +\n",
    "    theme(text = element_text(size = 15)) +\n",
    "ggtitle(\"Alcohol vs Sulphates\")\n",
    "sulphates_alcohol"
   ]
  },
  {
   "cell_type": "markdown",
   "metadata": {},
   "source": [
    "Additionally, we used two other variables on the y-axis to observe any existing strong relationship between any two x-variables."
   ]
  },
  {
   "cell_type": "code",
   "execution_count": null,
   "metadata": {},
   "outputs": [],
   "source": [
    "volatile_acidity_density <- redwine_train %>%\n",
    "    ggplot(aes(x = volatile_acidity, y = density, color = quality)) +\n",
    "    geom_point(alpha = 0.8, size = 3) +\n",
    "    labs(x = \"Density\", \n",
    "         y = \"Volatile Acidity\",\n",
    "         color = \"Quality\") +\n",
    "    scale_color_manual(values = c(\"green\", \"red\")) +\n",
    "    theme(text = element_text(size = 15)) +\n",
    "ggtitle(\"Volatile Acidity vs Density\")\n",
    "\n",
    "volatile_acidity_density"
   ]
  },
  {
   "cell_type": "code",
   "execution_count": null,
   "metadata": {},
   "outputs": [],
   "source": [
    "residual_sugar_citric_acid <- redwine_train %>%\n",
    "    ggplot(aes(x = residual_sugar, y = citric_acid, color = quality)) +\n",
    "    geom_point(alpha = 0.8, size = 3) +\n",
    "    labs(x = \"Residual Sugar\", \n",
    "         y = \"Citric Acid\",\n",
    "         color = \"Quality\") +\n",
    "    scale_color_manual(values = c(\"green\", \"red\")) +\n",
    "    theme(text = element_text(size = 15)) +\n",
    "ggtitle(\"Residual Sugar vs Citric Acid\")\n",
    "residual_sugar_citric_acid"
   ]
  },
  {
   "cell_type": "markdown",
   "metadata": {},
   "source": [
    "From the graphs above, we argue that a good trend is observed when 'total sulfur dioxide' and 'density' are each plotted against 'alcohol'. Notably, these three variables exhibit a strong to a moderate pattern, where a significant portion of the good-quality wines are clustered in the upper left corner, and the bad-quality wines are concentrated in the lower-left corner. Therefore, we decided to use 'alcohol,' 'total sulfur dioxide,' and 'density' as predicting variables.\n",
    "\n",
    "A weak trend is observed for all other variables since most red and green plots overlap. "
   ]
  },
  {
   "cell_type": "markdown",
   "metadata": {},
   "source": [
    "## Methods\n",
    "When performing our predictive analysis, we first scale our training dataset to better visually predict the quality of an unknown wine. We do this by using the recipe function, where quality is the categorial label variable and 'alcohol,' 'total sulfur dioxide,' and 'density' are predictors. \n",
    "\n",
    "We will conduct a 5-fold cross-validation and tune the model to improve our models' accuracy to collect the workflow's metrics. We then plot the k-values against accuracy to obtain the k-value with the highest accuracy. Using this k-value and specifying 'weight_func = rectangular,' we recreate our knn-spec function. Subsequently, the model's accuracy will be tested using our testing data set, and if the accuracy is above 80, the model will be used to predict the quality of the unknown observation. Otherwise, we will use fewer predictors then repeat the process until the accuracy exceeds 80.\n",
    "\n",
    "Finally, we plan on using a scatter plot because there is a correlation between the x and y continuous variables. The plots representing good-quality wine will be shown in green, whereas the bad-quality wines will be shown in red. In this way, we aim to make our graph as colour-friendly and interpretable as possible.  "
   ]
  },
  {
   "cell_type": "code",
   "execution_count": null,
   "metadata": {},
   "outputs": [],
   "source": [
    "#Verify the training set to check if the strata was maintained for redwine_training\n",
    "data_proportions <- redwine_train %>%\n",
    "    group_by(quality) %>%\n",
    "    summarize(n = n()) %>%\n",
    "    mutate(percent = 100*n/nrow(redwine_train))\n",
    "data_proportions"
   ]
  },
  {
   "cell_type": "markdown",
   "metadata": {},
   "source": [
    "We see that the proportion of good and bad in the \"redwine_train\" data set has preserved that of the original data set, as they share very similar percent for good and bad quality count."
   ]
  },
  {
   "cell_type": "code",
   "execution_count": null,
   "metadata": {},
   "outputs": [],
   "source": [
    "redwine_train"
   ]
  },
  {
   "cell_type": "code",
   "execution_count": null,
   "metadata": {},
   "outputs": [],
   "source": [
    "#Note: the step for creating the 60/40 split of the training data into a training and validation set has already been performed near the beginning of this project analysis\n",
    "#Goal: Use multiple different train/validation splits to attain a good estimate of accuracy and determine an optimal K parameter to use\n",
    "\n",
    "#Cross validation\n",
    "redwine_vfold <- vfold_cv(redwine_train, v = 5, strata = quality)\n",
    "\n",
    "#Preprocess the data using only the training set\n",
    "redwine_recipe <- recipe(quality ~ alcohol + total_sulfur_dioxide + density,\n",
    "                         data = redwine_train) %>%\n",
    "    step_scale(all_predictors()) %>%   \n",
    "    step_center(all_predictors())\n",
    "\n",
    "#tune the model's K parameter\n",
    "knn_spec <- nearest_neighbor(weight_func = \"rectangular\", neighbors = tune()) %>%\n",
    "    set_engine(\"kknn\") %>%\n",
    "    set_mode(\"classification\")\n",
    "\n",
    "#get a K value using tune and gridvals\n",
    "k_vals <- tibble(neighbors = seq(from = 1, to = 100, by = 5))\n",
    "\n",
    "#create a workflow\n",
    "knn_results<- workflow() %>%\n",
    "    add_recipe(redwine_recipe) %>%\n",
    "    add_model(knn_spec) %>%\n",
    "    tune_grid(resamples = redwine_vfold, grid = k_vals) %>%\n",
    "\n",
    "collect_metrics()\n",
    "\n",
    "#determine the accuracy of the estimates\n",
    "accuracies <- knn_results %>%\n",
    "    filter(.metric == \"accuracy\")\n",
    "accuracies\n",
    "\n",
    "#create a plot of estimated accuracy vs the # of neighbors\n",
    "accuracy_vs_k <- ggplot(accuracies, aes(x = neighbors, y = mean)) +\n",
    "  geom_point() +\n",
    "  geom_line() +\n",
    "  labs(x = \"Neighbors\", y = \"Accuracy Estimate\") + \n",
    "  theme(text = element_text(size = 12))\n",
    "accuracy_vs_k"
   ]
  },
  {
   "cell_type": "markdown",
   "metadata": {},
   "source": [
    "by printing the table for \"accuracies,\" the highest mean value observed is for row 18 \n",
    "or, equivalently, when the K parameter is equal to 96. Note that it has a standard error\n",
    "of 0.0218 and a pure mean of 0.717. But due to standard error, this means that the mean \n",
    "could be either 0.739 or 0.695, representing the notion of distance between our \n",
    "predicted and true categorical variable values."
   ]
  },
  {
   "cell_type": "code",
   "execution_count": null,
   "metadata": {},
   "outputs": [],
   "source": [
    "print(accuracies, n = 100)"
   ]
  },
  {
   "cell_type": "markdown",
   "metadata": {},
   "source": [
    "The model's highest accuracy obtained is 71.7% when predicting the quality of the unknown observation of red wine, classifying it as either good or bad quality based on the three predictor variables: alcohol, total sulfur dioxide, and density. \n",
    "\n",
    "NOTE TO SELF: Measurements will later be undertaken to see if this percentage accuracy can be raised to around 80%, but for now the data analysis will continue."
   ]
  },
  {
   "cell_type": "code",
   "execution_count": null,
   "metadata": {},
   "outputs": [],
   "source": [
    "#Goal: Train our classifier based on the training set using the obtained optimal K \n",
    "#value of 86 to see if it can appropriately predict observations from a test set. \n",
    "\n",
    "#Preprocess the data using only the training set (same step as before, but iterated for readability)\n",
    "redwine_recipe <- recipe(quality ~ alcohol + total_sulfur_dioxide + density,\n",
    "                         data = redwine_train) %>%\n",
    "    step_scale(all_predictors()) %>%   \n",
    "    step_center(all_predictors())\n",
    "\n",
    "#Train the classifier\n",
    "knn2_spec <- nearest_neighbor(weight_func = \"rectangular\", neighbors = 86) %>%\n",
    "    set_engine(\"kknn\") %>%\n",
    "    set_mode(\"classification\")\n",
    "\n",
    "#Create the workflow\n",
    "knn2_fit <- workflow() %>%\n",
    "    add_recipe(redwine_recipe) %>%\n",
    "    add_model(knn2_spec) %>%\n",
    "    fit(data = redwine_train)\n",
    "knn2_fit\n",
    "\n",
    "#Predict the labels in the test set\n",
    "redwine_test_predictions <- predict(knn2_fit, redwine_test) %>%\n",
    "    bind_cols(redwine_test)\n",
    "redwine_test_predictions\n",
    "\n",
    "#Compute the accuracy\n",
    "redwine_test_predictions %>%\n",
    "    metrics(truth = quality, estimate = pred.clas) %>%\n",
    "    filter(.metric == \"accuracy\") "
   ]
  },
  {
   "cell_type": "markdown",
   "metadata": {},
   "source": [
    "## Expected Outcomes and Significance\n",
    "We expect to find that the quality of red wine increases as alcohol content increases but decreases as density and sulfur dioxide increase. If the previous statement is true, this may be applicable for red wine consumers searching for purer and better alcohol with lower intoxicating effects and harmful chemical content. This potential outcome raises a health concern for red wine consumers, leading to the question for winemakers: Is there a way to remove the need to use sulfur dioxide in wine and lower the density? "
   ]
  }
 ],
 "metadata": {
  "kernelspec": {
   "display_name": "R",
   "language": "R",
   "name": "ir"
  },
  "language_info": {
   "codemirror_mode": "r",
   "file_extension": ".r",
   "mimetype": "text/x-r-source",
   "name": "R",
   "pygments_lexer": "r",
   "version": "4.0.0"
  }
 },
 "nbformat": 4,
 "nbformat_minor": 4
}
