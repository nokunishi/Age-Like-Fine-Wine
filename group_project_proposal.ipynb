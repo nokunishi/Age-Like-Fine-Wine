{
 "cells": [
  {
   "cell_type": "markdown",
   "metadata": {},
   "source": [
    "## Title\n",
    "Examining the Effects of Alcohol and Sulfur Dioxide Contents on the Quality of Red Wine"
   ]
  },
  {
   "cell_type": "markdown",
   "metadata": {},
   "source": [
    "## Introduction\n",
    "Red wine is not just any beverage. With physiological benefits, red wine can prevent heart disease and contains antioxidants. Although the drunk experience derives from alcohol content, red wine contains sulfur dioxide that may affect the respiratory system but stall oxidation and microbial spoilage and alcohol density that calculates how much alcohol is in a given volume. Inspired by the aforementioned research, we extracted a Wine Quality Data Set for a Portuguese red wine variant, Vinho Verde, the sample for the general red wine. Hence, we aim to answer this question in our classification project: Do alcohol, sulfur dioxide, and density affect the quality of red wine? "
   ]
  },
  {
   "cell_type": "markdown",
   "metadata": {},
   "source": [
    "## Preliminary exploratory data analysis"
   ]
  },
  {
   "cell_type": "code",
   "execution_count": 1,
   "metadata": {},
   "outputs": [
    {
     "name": "stderr",
     "output_type": "stream",
     "text": [
      "── \u001b[1mAttaching packages\u001b[22m ─────────────────────────────────────── tidyverse 1.3.0 ──\n",
      "\n",
      "\u001b[32m✔\u001b[39m \u001b[34mggplot2\u001b[39m 3.3.2     \u001b[32m✔\u001b[39m \u001b[34mpurrr  \u001b[39m 0.3.4\n",
      "\u001b[32m✔\u001b[39m \u001b[34mtibble \u001b[39m 3.0.3     \u001b[32m✔\u001b[39m \u001b[34mdplyr  \u001b[39m 1.0.2\n",
      "\u001b[32m✔\u001b[39m \u001b[34mtidyr  \u001b[39m 1.1.2     \u001b[32m✔\u001b[39m \u001b[34mstringr\u001b[39m 1.4.0\n",
      "\u001b[32m✔\u001b[39m \u001b[34mreadr  \u001b[39m 1.3.1     \u001b[32m✔\u001b[39m \u001b[34mforcats\u001b[39m 0.5.0\n",
      "\n",
      "Warning message:\n",
      "“package ‘ggplot2’ was built under R version 4.0.1”\n",
      "Warning message:\n",
      "“package ‘tibble’ was built under R version 4.0.2”\n",
      "Warning message:\n",
      "“package ‘tidyr’ was built under R version 4.0.2”\n",
      "Warning message:\n",
      "“package ‘dplyr’ was built under R version 4.0.2”\n",
      "── \u001b[1mConflicts\u001b[22m ────────────────────────────────────────── tidyverse_conflicts() ──\n",
      "\u001b[31m✖\u001b[39m \u001b[34mdplyr\u001b[39m::\u001b[32mfilter()\u001b[39m masks \u001b[34mstats\u001b[39m::filter()\n",
      "\u001b[31m✖\u001b[39m \u001b[34mdplyr\u001b[39m::\u001b[32mlag()\u001b[39m    masks \u001b[34mstats\u001b[39m::lag()\n",
      "\n",
      "Warning message:\n",
      "“package ‘tidymodels’ was built under R version 4.0.2”\n",
      "── \u001b[1mAttaching packages\u001b[22m ────────────────────────────────────── tidymodels 0.1.1 ──\n",
      "\n",
      "\u001b[32m✔\u001b[39m \u001b[34mbroom    \u001b[39m 0.7.0      \u001b[32m✔\u001b[39m \u001b[34mrecipes  \u001b[39m 0.1.13\n",
      "\u001b[32m✔\u001b[39m \u001b[34mdials    \u001b[39m 0.0.9      \u001b[32m✔\u001b[39m \u001b[34mrsample  \u001b[39m 0.0.7 \n",
      "\u001b[32m✔\u001b[39m \u001b[34minfer    \u001b[39m 0.5.4      \u001b[32m✔\u001b[39m \u001b[34mtune     \u001b[39m 0.1.1 \n",
      "\u001b[32m✔\u001b[39m \u001b[34mmodeldata\u001b[39m 0.0.2      \u001b[32m✔\u001b[39m \u001b[34mworkflows\u001b[39m 0.2.0 \n",
      "\u001b[32m✔\u001b[39m \u001b[34mparsnip  \u001b[39m 0.1.3      \u001b[32m✔\u001b[39m \u001b[34myardstick\u001b[39m 0.0.7 \n",
      "\n",
      "Warning message:\n",
      "“package ‘broom’ was built under R version 4.0.2”\n",
      "Warning message:\n",
      "“package ‘dials’ was built under R version 4.0.2”\n",
      "Warning message:\n",
      "“package ‘infer’ was built under R version 4.0.3”\n",
      "Warning message:\n",
      "“package ‘modeldata’ was built under R version 4.0.1”\n",
      "Warning message:\n",
      "“package ‘parsnip’ was built under R version 4.0.2”\n",
      "Warning message:\n",
      "“package ‘recipes’ was built under R version 4.0.1”\n",
      "Warning message:\n",
      "“package ‘tune’ was built under R version 4.0.2”\n",
      "Warning message:\n",
      "“package ‘workflows’ was built under R version 4.0.2”\n",
      "Warning message:\n",
      "“package ‘yardstick’ was built under R version 4.0.2”\n",
      "── \u001b[1mConflicts\u001b[22m ───────────────────────────────────────── tidymodels_conflicts() ──\n",
      "\u001b[31m✖\u001b[39m \u001b[34mscales\u001b[39m::\u001b[32mdiscard()\u001b[39m masks \u001b[34mpurrr\u001b[39m::discard()\n",
      "\u001b[31m✖\u001b[39m \u001b[34mdplyr\u001b[39m::\u001b[32mfilter()\u001b[39m   masks \u001b[34mstats\u001b[39m::filter()\n",
      "\u001b[31m✖\u001b[39m \u001b[34mrecipes\u001b[39m::\u001b[32mfixed()\u001b[39m  masks \u001b[34mstringr\u001b[39m::fixed()\n",
      "\u001b[31m✖\u001b[39m \u001b[34mdplyr\u001b[39m::\u001b[32mlag()\u001b[39m      masks \u001b[34mstats\u001b[39m::lag()\n",
      "\u001b[31m✖\u001b[39m \u001b[34myardstick\u001b[39m::\u001b[32mspec()\u001b[39m masks \u001b[34mreadr\u001b[39m::spec()\n",
      "\u001b[31m✖\u001b[39m \u001b[34mrecipes\u001b[39m::\u001b[32mstep()\u001b[39m   masks \u001b[34mstats\u001b[39m::step()\n",
      "\n"
     ]
    }
   ],
   "source": [
    "library(tidyverse)\n",
    "library(repr)\n",
    "library(tidymodels)\n",
    "options(repr.matrix.max.rows = 6)\n",
    "#source('tests.R')\n",
    "#source('cleanup.R')"
   ]
  },
  {
   "cell_type": "code",
   "execution_count": 2,
   "metadata": {},
   "outputs": [
    {
     "name": "stderr",
     "output_type": "stream",
     "text": [
      "Parsed with column specification:\n",
      "cols(\n",
      "  `fixed acidity` = \u001b[32mcol_double()\u001b[39m,\n",
      "  `volatile acidity` = \u001b[32mcol_double()\u001b[39m,\n",
      "  `citric acid` = \u001b[32mcol_double()\u001b[39m,\n",
      "  `residual sugar` = \u001b[32mcol_double()\u001b[39m,\n",
      "  chlorides = \u001b[32mcol_double()\u001b[39m,\n",
      "  `free sulfur dioxide` = \u001b[32mcol_double()\u001b[39m,\n",
      "  `total sulfur dioxide` = \u001b[32mcol_double()\u001b[39m,\n",
      "  density = \u001b[32mcol_double()\u001b[39m,\n",
      "  pH = \u001b[32mcol_double()\u001b[39m,\n",
      "  sulphates = \u001b[32mcol_double()\u001b[39m,\n",
      "  alcohol = \u001b[32mcol_double()\u001b[39m,\n",
      "  quality = \u001b[32mcol_double()\u001b[39m\n",
      ")\n",
      "\n"
     ]
    },
    {
     "data": {
      "text/html": [
       "<table>\n",
       "<caption>A spec_tbl_df: 1599 × 12</caption>\n",
       "<thead>\n",
       "\t<tr><th scope=col>fixed acidity</th><th scope=col>volatile acidity</th><th scope=col>citric acid</th><th scope=col>residual sugar</th><th scope=col>chlorides</th><th scope=col>free sulfur dioxide</th><th scope=col>total sulfur dioxide</th><th scope=col>density</th><th scope=col>pH</th><th scope=col>sulphates</th><th scope=col>alcohol</th><th scope=col>quality</th></tr>\n",
       "\t<tr><th scope=col>&lt;dbl&gt;</th><th scope=col>&lt;dbl&gt;</th><th scope=col>&lt;dbl&gt;</th><th scope=col>&lt;dbl&gt;</th><th scope=col>&lt;dbl&gt;</th><th scope=col>&lt;dbl&gt;</th><th scope=col>&lt;dbl&gt;</th><th scope=col>&lt;dbl&gt;</th><th scope=col>&lt;dbl&gt;</th><th scope=col>&lt;dbl&gt;</th><th scope=col>&lt;dbl&gt;</th><th scope=col>&lt;dbl&gt;</th></tr>\n",
       "</thead>\n",
       "<tbody>\n",
       "\t<tr><td>7.4</td><td>0.70</td><td>0.00</td><td>1.9</td><td>0.076</td><td>11</td><td>34</td><td>0.9978</td><td>3.51</td><td>0.56</td><td>9.4</td><td>5</td></tr>\n",
       "\t<tr><td>7.8</td><td>0.88</td><td>0.00</td><td>2.6</td><td>0.098</td><td>25</td><td>67</td><td>0.9968</td><td>3.20</td><td>0.68</td><td>9.8</td><td>5</td></tr>\n",
       "\t<tr><td>7.8</td><td>0.76</td><td>0.04</td><td>2.3</td><td>0.092</td><td>15</td><td>54</td><td>0.9970</td><td>3.26</td><td>0.65</td><td>9.8</td><td>5</td></tr>\n",
       "\t<tr><td>⋮</td><td>⋮</td><td>⋮</td><td>⋮</td><td>⋮</td><td>⋮</td><td>⋮</td><td>⋮</td><td>⋮</td><td>⋮</td><td>⋮</td><td>⋮</td></tr>\n",
       "\t<tr><td>6.3</td><td>0.510</td><td>0.13</td><td>2.3</td><td>0.076</td><td>29</td><td>40</td><td>0.99574</td><td>3.42</td><td>0.75</td><td>11.0</td><td>6</td></tr>\n",
       "\t<tr><td>5.9</td><td>0.645</td><td>0.12</td><td>2.0</td><td>0.075</td><td>32</td><td>44</td><td>0.99547</td><td>3.57</td><td>0.71</td><td>10.2</td><td>5</td></tr>\n",
       "\t<tr><td>6.0</td><td>0.310</td><td>0.47</td><td>3.6</td><td>0.067</td><td>18</td><td>42</td><td>0.99549</td><td>3.39</td><td>0.66</td><td>11.0</td><td>6</td></tr>\n",
       "</tbody>\n",
       "</table>\n"
      ],
      "text/latex": [
       "A spec\\_tbl\\_df: 1599 × 12\n",
       "\\begin{tabular}{llllllllllll}\n",
       " fixed acidity & volatile acidity & citric acid & residual sugar & chlorides & free sulfur dioxide & total sulfur dioxide & density & pH & sulphates & alcohol & quality\\\\\n",
       " <dbl> & <dbl> & <dbl> & <dbl> & <dbl> & <dbl> & <dbl> & <dbl> & <dbl> & <dbl> & <dbl> & <dbl>\\\\\n",
       "\\hline\n",
       "\t 7.4 & 0.70 & 0.00 & 1.9 & 0.076 & 11 & 34 & 0.9978 & 3.51 & 0.56 & 9.4 & 5\\\\\n",
       "\t 7.8 & 0.88 & 0.00 & 2.6 & 0.098 & 25 & 67 & 0.9968 & 3.20 & 0.68 & 9.8 & 5\\\\\n",
       "\t 7.8 & 0.76 & 0.04 & 2.3 & 0.092 & 15 & 54 & 0.9970 & 3.26 & 0.65 & 9.8 & 5\\\\\n",
       "\t ⋮ & ⋮ & ⋮ & ⋮ & ⋮ & ⋮ & ⋮ & ⋮ & ⋮ & ⋮ & ⋮ & ⋮\\\\\n",
       "\t 6.3 & 0.510 & 0.13 & 2.3 & 0.076 & 29 & 40 & 0.99574 & 3.42 & 0.75 & 11.0 & 6\\\\\n",
       "\t 5.9 & 0.645 & 0.12 & 2.0 & 0.075 & 32 & 44 & 0.99547 & 3.57 & 0.71 & 10.2 & 5\\\\\n",
       "\t 6.0 & 0.310 & 0.47 & 3.6 & 0.067 & 18 & 42 & 0.99549 & 3.39 & 0.66 & 11.0 & 6\\\\\n",
       "\\end{tabular}\n"
      ],
      "text/markdown": [
       "\n",
       "A spec_tbl_df: 1599 × 12\n",
       "\n",
       "| fixed acidity &lt;dbl&gt; | volatile acidity &lt;dbl&gt; | citric acid &lt;dbl&gt; | residual sugar &lt;dbl&gt; | chlorides &lt;dbl&gt; | free sulfur dioxide &lt;dbl&gt; | total sulfur dioxide &lt;dbl&gt; | density &lt;dbl&gt; | pH &lt;dbl&gt; | sulphates &lt;dbl&gt; | alcohol &lt;dbl&gt; | quality &lt;dbl&gt; |\n",
       "|---|---|---|---|---|---|---|---|---|---|---|---|\n",
       "| 7.4 | 0.70 | 0.00 | 1.9 | 0.076 | 11 | 34 | 0.9978 | 3.51 | 0.56 | 9.4 | 5 |\n",
       "| 7.8 | 0.88 | 0.00 | 2.6 | 0.098 | 25 | 67 | 0.9968 | 3.20 | 0.68 | 9.8 | 5 |\n",
       "| 7.8 | 0.76 | 0.04 | 2.3 | 0.092 | 15 | 54 | 0.9970 | 3.26 | 0.65 | 9.8 | 5 |\n",
       "| ⋮ | ⋮ | ⋮ | ⋮ | ⋮ | ⋮ | ⋮ | ⋮ | ⋮ | ⋮ | ⋮ | ⋮ |\n",
       "| 6.3 | 0.510 | 0.13 | 2.3 | 0.076 | 29 | 40 | 0.99574 | 3.42 | 0.75 | 11.0 | 6 |\n",
       "| 5.9 | 0.645 | 0.12 | 2.0 | 0.075 | 32 | 44 | 0.99547 | 3.57 | 0.71 | 10.2 | 5 |\n",
       "| 6.0 | 0.310 | 0.47 | 3.6 | 0.067 | 18 | 42 | 0.99549 | 3.39 | 0.66 | 11.0 | 6 |\n",
       "\n"
      ],
      "text/plain": [
       "     fixed acidity volatile acidity citric acid residual sugar chlorides\n",
       "1    7.4           0.70             0.00        1.9            0.076    \n",
       "2    7.8           0.88             0.00        2.6            0.098    \n",
       "3    7.8           0.76             0.04        2.3            0.092    \n",
       "⋮    ⋮             ⋮                ⋮           ⋮              ⋮        \n",
       "1597 6.3           0.510            0.13        2.3            0.076    \n",
       "1598 5.9           0.645            0.12        2.0            0.075    \n",
       "1599 6.0           0.310            0.47        3.6            0.067    \n",
       "     free sulfur dioxide total sulfur dioxide density pH   sulphates alcohol\n",
       "1    11                  34                   0.9978  3.51 0.56      9.4    \n",
       "2    25                  67                   0.9968  3.20 0.68      9.8    \n",
       "3    15                  54                   0.9970  3.26 0.65      9.8    \n",
       "⋮    ⋮                   ⋮                    ⋮       ⋮    ⋮         ⋮      \n",
       "1597 29                  40                   0.99574 3.42 0.75      11.0   \n",
       "1598 32                  44                   0.99547 3.57 0.71      10.2   \n",
       "1599 18                  42                   0.99549 3.39 0.66      11.0   \n",
       "     quality\n",
       "1    5      \n",
       "2    5      \n",
       "3    5      \n",
       "⋮    ⋮      \n",
       "1597 6      \n",
       "1598 5      \n",
       "1599 6      "
      ]
     },
     "metadata": {},
     "output_type": "display_data"
    },
    {
     "data": {
      "text/html": [
       "<table>\n",
       "<caption>A spec_tbl_df: 1599 × 12</caption>\n",
       "<thead>\n",
       "\t<tr><th scope=col>fixed acidity</th><th scope=col>volatile acidity</th><th scope=col>citric acid</th><th scope=col>residual sugar</th><th scope=col>chlorides</th><th scope=col>free sulfur dioxide</th><th scope=col>total sulfur dioxide</th><th scope=col>density</th><th scope=col>pH</th><th scope=col>sulphates</th><th scope=col>alcohol</th><th scope=col>quality</th></tr>\n",
       "\t<tr><th scope=col>&lt;dbl&gt;</th><th scope=col>&lt;dbl&gt;</th><th scope=col>&lt;dbl&gt;</th><th scope=col>&lt;dbl&gt;</th><th scope=col>&lt;dbl&gt;</th><th scope=col>&lt;dbl&gt;</th><th scope=col>&lt;dbl&gt;</th><th scope=col>&lt;dbl&gt;</th><th scope=col>&lt;dbl&gt;</th><th scope=col>&lt;dbl&gt;</th><th scope=col>&lt;dbl&gt;</th><th scope=col>&lt;chr&gt;</th></tr>\n",
       "</thead>\n",
       "<tbody>\n",
       "\t<tr><td>11.2</td><td>0.28</td><td>0.56</td><td>1.9</td><td>0.075</td><td>17</td><td>60</td><td>0.9980</td><td>3.16</td><td>0.58</td><td> 9.8</td><td>good</td></tr>\n",
       "\t<tr><td> 7.3</td><td>0.65</td><td>0.00</td><td>1.2</td><td>0.065</td><td>15</td><td>21</td><td>0.9946</td><td>3.39</td><td>0.47</td><td>10.0</td><td>good</td></tr>\n",
       "\t<tr><td> 7.8</td><td>0.58</td><td>0.02</td><td>2.0</td><td>0.073</td><td> 9</td><td>18</td><td>0.9968</td><td>3.36</td><td>0.57</td><td> 9.5</td><td>good</td></tr>\n",
       "\t<tr><td>⋮</td><td>⋮</td><td>⋮</td><td>⋮</td><td>⋮</td><td>⋮</td><td>⋮</td><td>⋮</td><td>⋮</td><td>⋮</td><td>⋮</td><td>⋮</td></tr>\n",
       "\t<tr><td>6.6</td><td>0.725</td><td>0.20</td><td>7.8</td><td>0.073</td><td>29</td><td>79</td><td>0.99770</td><td>3.29</td><td>0.54</td><td> 9.2</td><td>bad</td></tr>\n",
       "\t<tr><td>6.2</td><td>0.600</td><td>0.08</td><td>2.0</td><td>0.090</td><td>32</td><td>44</td><td>0.99490</td><td>3.45</td><td>0.58</td><td>10.5</td><td>bad</td></tr>\n",
       "\t<tr><td>5.9</td><td>0.645</td><td>0.12</td><td>2.0</td><td>0.075</td><td>32</td><td>44</td><td>0.99547</td><td>3.57</td><td>0.71</td><td>10.2</td><td>bad</td></tr>\n",
       "</tbody>\n",
       "</table>\n"
      ],
      "text/latex": [
       "A spec\\_tbl\\_df: 1599 × 12\n",
       "\\begin{tabular}{llllllllllll}\n",
       " fixed acidity & volatile acidity & citric acid & residual sugar & chlorides & free sulfur dioxide & total sulfur dioxide & density & pH & sulphates & alcohol & quality\\\\\n",
       " <dbl> & <dbl> & <dbl> & <dbl> & <dbl> & <dbl> & <dbl> & <dbl> & <dbl> & <dbl> & <dbl> & <chr>\\\\\n",
       "\\hline\n",
       "\t 11.2 & 0.28 & 0.56 & 1.9 & 0.075 & 17 & 60 & 0.9980 & 3.16 & 0.58 &  9.8 & good\\\\\n",
       "\t  7.3 & 0.65 & 0.00 & 1.2 & 0.065 & 15 & 21 & 0.9946 & 3.39 & 0.47 & 10.0 & good\\\\\n",
       "\t  7.8 & 0.58 & 0.02 & 2.0 & 0.073 &  9 & 18 & 0.9968 & 3.36 & 0.57 &  9.5 & good\\\\\n",
       "\t ⋮ & ⋮ & ⋮ & ⋮ & ⋮ & ⋮ & ⋮ & ⋮ & ⋮ & ⋮ & ⋮ & ⋮\\\\\n",
       "\t 6.6 & 0.725 & 0.20 & 7.8 & 0.073 & 29 & 79 & 0.99770 & 3.29 & 0.54 &  9.2 & bad\\\\\n",
       "\t 6.2 & 0.600 & 0.08 & 2.0 & 0.090 & 32 & 44 & 0.99490 & 3.45 & 0.58 & 10.5 & bad\\\\\n",
       "\t 5.9 & 0.645 & 0.12 & 2.0 & 0.075 & 32 & 44 & 0.99547 & 3.57 & 0.71 & 10.2 & bad\\\\\n",
       "\\end{tabular}\n"
      ],
      "text/markdown": [
       "\n",
       "A spec_tbl_df: 1599 × 12\n",
       "\n",
       "| fixed acidity &lt;dbl&gt; | volatile acidity &lt;dbl&gt; | citric acid &lt;dbl&gt; | residual sugar &lt;dbl&gt; | chlorides &lt;dbl&gt; | free sulfur dioxide &lt;dbl&gt; | total sulfur dioxide &lt;dbl&gt; | density &lt;dbl&gt; | pH &lt;dbl&gt; | sulphates &lt;dbl&gt; | alcohol &lt;dbl&gt; | quality &lt;chr&gt; |\n",
       "|---|---|---|---|---|---|---|---|---|---|---|---|\n",
       "| 11.2 | 0.28 | 0.56 | 1.9 | 0.075 | 17 | 60 | 0.9980 | 3.16 | 0.58 |  9.8 | good |\n",
       "|  7.3 | 0.65 | 0.00 | 1.2 | 0.065 | 15 | 21 | 0.9946 | 3.39 | 0.47 | 10.0 | good |\n",
       "|  7.8 | 0.58 | 0.02 | 2.0 | 0.073 |  9 | 18 | 0.9968 | 3.36 | 0.57 |  9.5 | good |\n",
       "| ⋮ | ⋮ | ⋮ | ⋮ | ⋮ | ⋮ | ⋮ | ⋮ | ⋮ | ⋮ | ⋮ | ⋮ |\n",
       "| 6.6 | 0.725 | 0.20 | 7.8 | 0.073 | 29 | 79 | 0.99770 | 3.29 | 0.54 |  9.2 | bad |\n",
       "| 6.2 | 0.600 | 0.08 | 2.0 | 0.090 | 32 | 44 | 0.99490 | 3.45 | 0.58 | 10.5 | bad |\n",
       "| 5.9 | 0.645 | 0.12 | 2.0 | 0.075 | 32 | 44 | 0.99547 | 3.57 | 0.71 | 10.2 | bad |\n",
       "\n"
      ],
      "text/plain": [
       "     fixed acidity volatile acidity citric acid residual sugar chlorides\n",
       "1    11.2          0.28             0.56        1.9            0.075    \n",
       "2     7.3          0.65             0.00        1.2            0.065    \n",
       "3     7.8          0.58             0.02        2.0            0.073    \n",
       "⋮    ⋮             ⋮                ⋮           ⋮              ⋮        \n",
       "1597 6.6           0.725            0.20        7.8            0.073    \n",
       "1598 6.2           0.600            0.08        2.0            0.090    \n",
       "1599 5.9           0.645            0.12        2.0            0.075    \n",
       "     free sulfur dioxide total sulfur dioxide density pH   sulphates alcohol\n",
       "1    17                  60                   0.9980  3.16 0.58       9.8   \n",
       "2    15                  21                   0.9946  3.39 0.47      10.0   \n",
       "3     9                  18                   0.9968  3.36 0.57       9.5   \n",
       "⋮    ⋮                   ⋮                    ⋮       ⋮    ⋮         ⋮      \n",
       "1597 29                  79                   0.99770 3.29 0.54       9.2   \n",
       "1598 32                  44                   0.99490 3.45 0.58      10.5   \n",
       "1599 32                  44                   0.99547 3.57 0.71      10.2   \n",
       "     quality\n",
       "1    good   \n",
       "2    good   \n",
       "3    good   \n",
       "⋮    ⋮      \n",
       "1597 bad    \n",
       "1598 bad    \n",
       "1599 bad    "
      ]
     },
     "metadata": {},
     "output_type": "display_data"
    }
   ],
   "source": [
    "# this is the untidy data set \n",
    "\n",
    "url <- \"https://archive.ics.uci.edu/ml/machine-learning-databases/wine-quality/winequality-red.csv\"\n",
    "redwine <- read_delim(url, delim = \";\")\n",
    "redwine\n",
    "#change the numeric quality into 'good' (if the numeric quality is greater than 5) and \n",
    "#'bad' (if the numeric quality is less or equal to 5)\n",
    "good_redwine <- redwine %>%\n",
    "    filter(quality > 5) %>%\n",
    "    mutate(quality = \"good\")\n",
    "bad_redwine <- redwine %>%\n",
    "    filter(quality <= 5) %>%\n",
    "    mutate(quality = \"bad\") \n",
    "redwine_new <- rbind(good_redwine, bad_redwine)\n",
    "redwine_new"
   ]
  },
  {
   "cell_type": "code",
   "execution_count": 3,
   "metadata": {},
   "outputs": [
    {
     "data": {
      "text/html": [
       "<style>\n",
       ".list-inline {list-style: none; margin:0; padding: 0}\n",
       ".list-inline>li {display: inline-block}\n",
       ".list-inline>li:not(:last-child)::after {content: \"\\00b7\"; padding: 0 .5ex}\n",
       "</style>\n",
       "<ol class=list-inline><li>'good'</li><li>'bad'</li></ol>\n"
      ],
      "text/latex": [
       "\\begin{enumerate*}\n",
       "\\item 'good'\n",
       "\\item 'bad'\n",
       "\\end{enumerate*}\n"
      ],
      "text/markdown": [
       "1. 'good'\n",
       "2. 'bad'\n",
       "\n",
       "\n"
      ],
      "text/plain": [
       "[1] \"good\" \"bad\" "
      ]
     },
     "metadata": {},
     "output_type": "display_data"
    }
   ],
   "source": [
    "#we see that the 'quality' variable is of type character. \n",
    "#We change this to type factor\n",
    "\n",
    "redwine_newfct <- redwine_new %>%\n",
    "    mutate(quality = as_factor(quality))\n",
    "\n",
    "#To ensure that there are only two levels ('good' and 'bad') in the 'quality' column,  we use the 'levels' function. \n",
    "#The reason for this is because there are many rows that are not shown in the table, which suggests \n",
    "#uncertainty as to what exactly the 'quality' column contains.\n",
    " \n",
    "redwine_newfct %>%\n",
    "    pull(quality) %>%\n",
    "    levels()"
   ]
  },
  {
   "cell_type": "code",
   "execution_count": 4,
   "metadata": {},
   "outputs": [
    {
     "data": {
      "text/html": [
       "<table>\n",
       "<caption>A spec_tbl_df: 1599 × 12</caption>\n",
       "<thead>\n",
       "\t<tr><th scope=col>fixed_acidity</th><th scope=col>volatile_acidity</th><th scope=col>citric_acid</th><th scope=col>residual_sugar</th><th scope=col>chlorides</th><th scope=col>free_sulfur_dioxide</th><th scope=col>total_sulfur_dioxide</th><th scope=col>density</th><th scope=col>pH</th><th scope=col>sulphates</th><th scope=col>alcohol</th><th scope=col>quality</th></tr>\n",
       "\t<tr><th scope=col>&lt;dbl&gt;</th><th scope=col>&lt;dbl&gt;</th><th scope=col>&lt;dbl&gt;</th><th scope=col>&lt;dbl&gt;</th><th scope=col>&lt;dbl&gt;</th><th scope=col>&lt;dbl&gt;</th><th scope=col>&lt;dbl&gt;</th><th scope=col>&lt;dbl&gt;</th><th scope=col>&lt;dbl&gt;</th><th scope=col>&lt;dbl&gt;</th><th scope=col>&lt;dbl&gt;</th><th scope=col>&lt;fct&gt;</th></tr>\n",
       "</thead>\n",
       "<tbody>\n",
       "\t<tr><td>11.2</td><td>0.28</td><td>0.56</td><td>1.9</td><td>0.075</td><td>17</td><td>60</td><td>0.9980</td><td>3.16</td><td>0.58</td><td> 9.8</td><td>good</td></tr>\n",
       "\t<tr><td> 7.3</td><td>0.65</td><td>0.00</td><td>1.2</td><td>0.065</td><td>15</td><td>21</td><td>0.9946</td><td>3.39</td><td>0.47</td><td>10.0</td><td>good</td></tr>\n",
       "\t<tr><td> 7.8</td><td>0.58</td><td>0.02</td><td>2.0</td><td>0.073</td><td> 9</td><td>18</td><td>0.9968</td><td>3.36</td><td>0.57</td><td> 9.5</td><td>good</td></tr>\n",
       "\t<tr><td>⋮</td><td>⋮</td><td>⋮</td><td>⋮</td><td>⋮</td><td>⋮</td><td>⋮</td><td>⋮</td><td>⋮</td><td>⋮</td><td>⋮</td><td>⋮</td></tr>\n",
       "\t<tr><td>6.6</td><td>0.725</td><td>0.20</td><td>7.8</td><td>0.073</td><td>29</td><td>79</td><td>0.99770</td><td>3.29</td><td>0.54</td><td> 9.2</td><td>bad</td></tr>\n",
       "\t<tr><td>6.2</td><td>0.600</td><td>0.08</td><td>2.0</td><td>0.090</td><td>32</td><td>44</td><td>0.99490</td><td>3.45</td><td>0.58</td><td>10.5</td><td>bad</td></tr>\n",
       "\t<tr><td>5.9</td><td>0.645</td><td>0.12</td><td>2.0</td><td>0.075</td><td>32</td><td>44</td><td>0.99547</td><td>3.57</td><td>0.71</td><td>10.2</td><td>bad</td></tr>\n",
       "</tbody>\n",
       "</table>\n"
      ],
      "text/latex": [
       "A spec\\_tbl\\_df: 1599 × 12\n",
       "\\begin{tabular}{llllllllllll}\n",
       " fixed\\_acidity & volatile\\_acidity & citric\\_acid & residual\\_sugar & chlorides & free\\_sulfur\\_dioxide & total\\_sulfur\\_dioxide & density & pH & sulphates & alcohol & quality\\\\\n",
       " <dbl> & <dbl> & <dbl> & <dbl> & <dbl> & <dbl> & <dbl> & <dbl> & <dbl> & <dbl> & <dbl> & <fct>\\\\\n",
       "\\hline\n",
       "\t 11.2 & 0.28 & 0.56 & 1.9 & 0.075 & 17 & 60 & 0.9980 & 3.16 & 0.58 &  9.8 & good\\\\\n",
       "\t  7.3 & 0.65 & 0.00 & 1.2 & 0.065 & 15 & 21 & 0.9946 & 3.39 & 0.47 & 10.0 & good\\\\\n",
       "\t  7.8 & 0.58 & 0.02 & 2.0 & 0.073 &  9 & 18 & 0.9968 & 3.36 & 0.57 &  9.5 & good\\\\\n",
       "\t ⋮ & ⋮ & ⋮ & ⋮ & ⋮ & ⋮ & ⋮ & ⋮ & ⋮ & ⋮ & ⋮ & ⋮\\\\\n",
       "\t 6.6 & 0.725 & 0.20 & 7.8 & 0.073 & 29 & 79 & 0.99770 & 3.29 & 0.54 &  9.2 & bad\\\\\n",
       "\t 6.2 & 0.600 & 0.08 & 2.0 & 0.090 & 32 & 44 & 0.99490 & 3.45 & 0.58 & 10.5 & bad\\\\\n",
       "\t 5.9 & 0.645 & 0.12 & 2.0 & 0.075 & 32 & 44 & 0.99547 & 3.57 & 0.71 & 10.2 & bad\\\\\n",
       "\\end{tabular}\n"
      ],
      "text/markdown": [
       "\n",
       "A spec_tbl_df: 1599 × 12\n",
       "\n",
       "| fixed_acidity &lt;dbl&gt; | volatile_acidity &lt;dbl&gt; | citric_acid &lt;dbl&gt; | residual_sugar &lt;dbl&gt; | chlorides &lt;dbl&gt; | free_sulfur_dioxide &lt;dbl&gt; | total_sulfur_dioxide &lt;dbl&gt; | density &lt;dbl&gt; | pH &lt;dbl&gt; | sulphates &lt;dbl&gt; | alcohol &lt;dbl&gt; | quality &lt;fct&gt; |\n",
       "|---|---|---|---|---|---|---|---|---|---|---|---|\n",
       "| 11.2 | 0.28 | 0.56 | 1.9 | 0.075 | 17 | 60 | 0.9980 | 3.16 | 0.58 |  9.8 | good |\n",
       "|  7.3 | 0.65 | 0.00 | 1.2 | 0.065 | 15 | 21 | 0.9946 | 3.39 | 0.47 | 10.0 | good |\n",
       "|  7.8 | 0.58 | 0.02 | 2.0 | 0.073 |  9 | 18 | 0.9968 | 3.36 | 0.57 |  9.5 | good |\n",
       "| ⋮ | ⋮ | ⋮ | ⋮ | ⋮ | ⋮ | ⋮ | ⋮ | ⋮ | ⋮ | ⋮ | ⋮ |\n",
       "| 6.6 | 0.725 | 0.20 | 7.8 | 0.073 | 29 | 79 | 0.99770 | 3.29 | 0.54 |  9.2 | bad |\n",
       "| 6.2 | 0.600 | 0.08 | 2.0 | 0.090 | 32 | 44 | 0.99490 | 3.45 | 0.58 | 10.5 | bad |\n",
       "| 5.9 | 0.645 | 0.12 | 2.0 | 0.075 | 32 | 44 | 0.99547 | 3.57 | 0.71 | 10.2 | bad |\n",
       "\n"
      ],
      "text/plain": [
       "     fixed_acidity volatile_acidity citric_acid residual_sugar chlorides\n",
       "1    11.2          0.28             0.56        1.9            0.075    \n",
       "2     7.3          0.65             0.00        1.2            0.065    \n",
       "3     7.8          0.58             0.02        2.0            0.073    \n",
       "⋮    ⋮             ⋮                ⋮           ⋮              ⋮        \n",
       "1597 6.6           0.725            0.20        7.8            0.073    \n",
       "1598 6.2           0.600            0.08        2.0            0.090    \n",
       "1599 5.9           0.645            0.12        2.0            0.075    \n",
       "     free_sulfur_dioxide total_sulfur_dioxide density pH   sulphates alcohol\n",
       "1    17                  60                   0.9980  3.16 0.58       9.8   \n",
       "2    15                  21                   0.9946  3.39 0.47      10.0   \n",
       "3     9                  18                   0.9968  3.36 0.57       9.5   \n",
       "⋮    ⋮                   ⋮                    ⋮       ⋮    ⋮         ⋮      \n",
       "1597 29                  79                   0.99770 3.29 0.54       9.2   \n",
       "1598 32                  44                   0.99490 3.45 0.58      10.5   \n",
       "1599 32                  44                   0.99547 3.57 0.71      10.2   \n",
       "     quality\n",
       "1    good   \n",
       "2    good   \n",
       "3    good   \n",
       "⋮    ⋮      \n",
       "1597 bad    \n",
       "1598 bad    \n",
       "1599 bad    "
      ]
     },
     "metadata": {},
     "output_type": "display_data"
    },
    {
     "name": "stderr",
     "output_type": "stream",
     "text": [
      "Warning message in mean.default(.x[[i]], ...):\n",
      "“argument is not numeric or logical: returning NA”\n"
     ]
    },
    {
     "data": {
      "text/html": [
       "<table>\n",
       "<caption>A tibble: 1 × 12</caption>\n",
       "<thead>\n",
       "\t<tr><th scope=col>fixed_acidity</th><th scope=col>volatile_acidity</th><th scope=col>citric_acid</th><th scope=col>residual_sugar</th><th scope=col>chlorides</th><th scope=col>free_sulfur_dioxide</th><th scope=col>total_sulfur_dioxide</th><th scope=col>density</th><th scope=col>pH</th><th scope=col>sulphates</th><th scope=col>alcohol</th><th scope=col>quality</th></tr>\n",
       "\t<tr><th scope=col>&lt;dbl&gt;</th><th scope=col>&lt;dbl&gt;</th><th scope=col>&lt;dbl&gt;</th><th scope=col>&lt;dbl&gt;</th><th scope=col>&lt;dbl&gt;</th><th scope=col>&lt;dbl&gt;</th><th scope=col>&lt;dbl&gt;</th><th scope=col>&lt;dbl&gt;</th><th scope=col>&lt;dbl&gt;</th><th scope=col>&lt;dbl&gt;</th><th scope=col>&lt;dbl&gt;</th><th scope=col>&lt;dbl&gt;</th></tr>\n",
       "</thead>\n",
       "<tbody>\n",
       "\t<tr><td>8.231667</td><td>0.5295937</td><td>0.2595208</td><td>2.534531</td><td>0.0878375</td><td>15.98021</td><td>46.52031</td><td>0.9967174</td><td>3.318</td><td>0.6607812</td><td>10.41884</td><td>NA</td></tr>\n",
       "</tbody>\n",
       "</table>\n"
      ],
      "text/latex": [
       "A tibble: 1 × 12\n",
       "\\begin{tabular}{llllllllllll}\n",
       " fixed\\_acidity & volatile\\_acidity & citric\\_acid & residual\\_sugar & chlorides & free\\_sulfur\\_dioxide & total\\_sulfur\\_dioxide & density & pH & sulphates & alcohol & quality\\\\\n",
       " <dbl> & <dbl> & <dbl> & <dbl> & <dbl> & <dbl> & <dbl> & <dbl> & <dbl> & <dbl> & <dbl> & <dbl>\\\\\n",
       "\\hline\n",
       "\t 8.231667 & 0.5295937 & 0.2595208 & 2.534531 & 0.0878375 & 15.98021 & 46.52031 & 0.9967174 & 3.318 & 0.6607812 & 10.41884 & NA\\\\\n",
       "\\end{tabular}\n"
      ],
      "text/markdown": [
       "\n",
       "A tibble: 1 × 12\n",
       "\n",
       "| fixed_acidity &lt;dbl&gt; | volatile_acidity &lt;dbl&gt; | citric_acid &lt;dbl&gt; | residual_sugar &lt;dbl&gt; | chlorides &lt;dbl&gt; | free_sulfur_dioxide &lt;dbl&gt; | total_sulfur_dioxide &lt;dbl&gt; | density &lt;dbl&gt; | pH &lt;dbl&gt; | sulphates &lt;dbl&gt; | alcohol &lt;dbl&gt; | quality &lt;dbl&gt; |\n",
       "|---|---|---|---|---|---|---|---|---|---|---|---|\n",
       "| 8.231667 | 0.5295937 | 0.2595208 | 2.534531 | 0.0878375 | 15.98021 | 46.52031 | 0.9967174 | 3.318 | 0.6607812 | 10.41884 | NA |\n",
       "\n"
      ],
      "text/plain": [
       "  fixed_acidity volatile_acidity citric_acid residual_sugar chlorides\n",
       "1 8.231667      0.5295937        0.2595208   2.534531       0.0878375\n",
       "  free_sulfur_dioxide total_sulfur_dioxide density   pH    sulphates alcohol \n",
       "1 15.98021            46.52031             0.9967174 3.318 0.6607812 10.41884\n",
       "  quality\n",
       "1 NA     "
      ]
     },
     "metadata": {},
     "output_type": "display_data"
    }
   ],
   "source": [
    "#We renamed the columns of the redwine_newfct dataset so that the column names use underscores\n",
    "\n",
    "redwine_newfct <- redwine_newfct %>%\n",
    "rename(fixed_acidity = \"fixed acidity\",\n",
    "      volatile_acidity = \"volatile acidity\",\n",
    "      citric_acid = \"citric acid\",\n",
    "      residual_sugar = \"residual sugar\",\n",
    "      free_sulfur_dioxide = \"free sulfur dioxide\",\n",
    "      total_sulfur_dioxide = \"total sulfur dioxide\")\n",
    "redwine_newfct\n",
    "\n",
    "set.seed(2402)\n",
    "\n",
    "#This is our unscaled training data set\n",
    "redwine_split <- initial_split(redwine_newfct, prop = 0.6, strata = quality)\n",
    "redwine_train <- training(redwine_split)\n",
    "redwine_test <- testing (redwine_split)\n",
    "\n",
    "#This is the summary data set of the tidy redwine data set. \n",
    "#Each value represent the mean value of all the values in that column. \n",
    "\n",
    "redwine_summary <- redwine_train %>%\n",
    "map_df(mean)\n",
    "\n",
    "redwine_summary "
   ]
  },
  {
   "cell_type": "code",
   "execution_count": 5,
   "metadata": {},
   "outputs": [
    {
     "name": "stderr",
     "output_type": "stream",
     "text": [
      "`summarise()` ungrouping output (override with `.groups` argument)\n",
      "\n"
     ]
    },
    {
     "data": {
      "text/html": [
       "<table>\n",
       "<caption>A tibble: 2 × 3</caption>\n",
       "<thead>\n",
       "\t<tr><th scope=col>quality</th><th scope=col>count</th><th scope=col>percentage</th></tr>\n",
       "\t<tr><th scope=col>&lt;fct&gt;</th><th scope=col>&lt;int&gt;</th><th scope=col>&lt;dbl&gt;</th></tr>\n",
       "</thead>\n",
       "<tbody>\n",
       "\t<tr><td>good</td><td>513</td><td>53.4375</td></tr>\n",
       "\t<tr><td>bad </td><td>447</td><td>46.5625</td></tr>\n",
       "</tbody>\n",
       "</table>\n"
      ],
      "text/latex": [
       "A tibble: 2 × 3\n",
       "\\begin{tabular}{lll}\n",
       " quality & count & percentage\\\\\n",
       " <fct> & <int> & <dbl>\\\\\n",
       "\\hline\n",
       "\t good & 513 & 53.4375\\\\\n",
       "\t bad  & 447 & 46.5625\\\\\n",
       "\\end{tabular}\n"
      ],
      "text/markdown": [
       "\n",
       "A tibble: 2 × 3\n",
       "\n",
       "| quality &lt;fct&gt; | count &lt;int&gt; | percentage &lt;dbl&gt; |\n",
       "|---|---|---|\n",
       "| good | 513 | 53.4375 |\n",
       "| bad  | 447 | 46.5625 |\n",
       "\n"
      ],
      "text/plain": [
       "  quality count percentage\n",
       "1 good    513   53.4375   \n",
       "2 bad     447   46.5625   "
      ]
     },
     "metadata": {},
     "output_type": "display_data"
    }
   ],
   "source": [
    "redwine_num_obs <- nrow(redwine_train) \n",
    "redwine_train %>%\n",
    "    group_by(quality) %>%\n",
    "    summarize(count = n(),\n",
    "             percentage = n() / redwine_num_obs * 100)"
   ]
  },
  {
   "cell_type": "markdown",
   "metadata": {},
   "source": [
    "From this, we see that the proportion of good and bad quality are roughly the same. Therefore, oversampling is unnecessary. "
   ]
  },
  {
   "cell_type": "markdown",
   "metadata": {},
   "source": [
    "Using the training data set values, we establish the following graphs by keeping 'alcohol' on the y-axis and changing the x-axis. We hypothesized that alcohol is a good predictor variable from the' mod' table. Hence, we varied the x-axis to observe whether variables exhibit a good pattern when 'alcohol' is plotted against them. "
   ]
  },
  {
   "cell_type": "code",
   "execution_count": null,
   "metadata": {},
   "outputs": [],
   "source": [
    "fixed_acidity_alcohol <- redwine_train %>%\n",
    "    ggplot(aes(x = fixed_acidity, y = alcohol, color = quality)) +\n",
    "    geom_point(alpha = 0.8, size = 3) +\n",
    "    labs(x = \"Fixed Acidity\", \n",
    "         y = \"Alcohol\",\n",
    "         color = \"Quality\") +\n",
    "    scale_color_manual(values = c(\"green\", \"red\")) +\n",
    "    theme(text = element_text(size = 15)) +\n",
    "ggtitle(\"Alcohol vs Fixed Acidity\")\n",
    "fixed_acidity_alcohol"
   ]
  },
  {
   "cell_type": "code",
   "execution_count": null,
   "metadata": {},
   "outputs": [],
   "source": [
    "volatile_acidity_alcohol <- redwine_train %>%\n",
    "    ggplot(aes(x = volatile_acidity, y = alcohol, color = quality)) +\n",
    "    geom_point(alpha = 0.8, size = 3) +\n",
    "    labs(x = \"volatile acidity\", \n",
    "         y = \"alcohol\",\n",
    "         color = \"Quality\") +\n",
    "    scale_color_manual(values = c(\"green\", \"red\")) +\n",
    "    theme(text = element_text(size = 15)) +\n",
    "ggtitle(\"Alcohol vs Volatile Acidity\")\n",
    "volatile_acidity_alcohol"
   ]
  },
  {
   "cell_type": "code",
   "execution_count": null,
   "metadata": {},
   "outputs": [],
   "source": [
    "citric_acid_alcohol <- redwine_train %>%\n",
    "    ggplot(aes(x = citric_acid, y = alcohol, color = quality)) +\n",
    "    geom_point(alpha = 0.8, size = 3) +\n",
    "    labs(x = \"Citric Acid\", \n",
    "         y = \"Alcohol\",\n",
    "         color = \"Quality\") +\n",
    "    scale_color_manual(values = c(\"green\", \"red\")) +\n",
    "    theme(text = element_text(size = 15)) +\n",
    "ggtitle(\"Alcohol vs Citric Acid\")\n",
    "citric_acid_alcohol"
   ]
  },
  {
   "cell_type": "code",
   "execution_count": null,
   "metadata": {},
   "outputs": [],
   "source": [
    "residual_sugar_alcohol <- redwine_train %>%\n",
    "    ggplot(aes(x = residual_sugar, y = alcohol, color = quality)) +\n",
    "    geom_point(alpha = 0.8, size = 3) +\n",
    "    labs(x = \"Residual Sugar\", \n",
    "         y = \"Alcohol\",\n",
    "         color = \"Quality\") +\n",
    "    scale_color_manual(values = c(\"green\", \"red\")) +\n",
    "    theme(text = element_text(size = 15)) +\n",
    "ggtitle(\"Alcohol vs Residual Sugar\")\n",
    "residual_sugar_alcohol"
   ]
  },
  {
   "cell_type": "code",
   "execution_count": null,
   "metadata": {},
   "outputs": [],
   "source": [
    "chlorides_alcohol <- redwine_train %>%\n",
    "    ggplot(aes(x = chlorides, y = alcohol, color = quality)) +\n",
    "    geom_point(alpha = 0.8, size = 3) +\n",
    "    labs(x = \"Chlorides\", \n",
    "         y = \"Alcohol\",\n",
    "         color = \"Quality\") +\n",
    "    scale_color_manual(values = c(\"green\", \"red\")) +\n",
    "    theme(text = element_text(size = 15)) +\n",
    "ggtitle(\"Alcohol vs Chlorides\")\n",
    "chlorides_alcohol"
   ]
  },
  {
   "cell_type": "code",
   "execution_count": null,
   "metadata": {},
   "outputs": [],
   "source": [
    "free_sulfur_dioxide_alcohol <- redwine_train %>%\n",
    "    ggplot(aes(x = free_sulfur_dioxide, y = alcohol, color = quality)) +\n",
    "    geom_point(alpha = 0.8, size = 3) +\n",
    "    labs(x = \"Free Sulfur Dioxide\", \n",
    "         y = \"Alcohol\",\n",
    "         color = \"Quality\") +\n",
    "    scale_color_manual(values = c(\"green\", \"red\")) +\n",
    "    theme(text = element_text(size = 15)) +\n",
    "ggtitle(\"Alcohol vs Free Sulfur Dioxide\")\n",
    "free_sulfur_dioxide_alcohol"
   ]
  },
  {
   "cell_type": "code",
   "execution_count": null,
   "metadata": {},
   "outputs": [],
   "source": [
    "total_sulfur_dioxide_alcohol <- redwine_train %>%\n",
    "    ggplot(aes(x = total_sulfur_dioxide, y = alcohol, color = quality)) +\n",
    "    geom_point(alpha = 0.8, size = 3) +\n",
    "    labs(x = \"Total Sulfur Dioxide\", \n",
    "         y = \"Alcohol\",\n",
    "         color = \"Quality\") +\n",
    "    scale_color_manual(values = c(\"green\", \"red\")) +\n",
    "    theme(text = element_text(size = 15)) +\n",
    "ggtitle(\"Alcohol vs Total Sulfur Dioxide\")\n",
    "total_sulfur_dioxide_alcohol"
   ]
  },
  {
   "cell_type": "code",
   "execution_count": null,
   "metadata": {},
   "outputs": [],
   "source": [
    "density_alcohol <- redwine_train %>%\n",
    "    ggplot(aes(x = density, y = alcohol, color = quality)) +\n",
    "    geom_point(alpha = 0.8, size = 3) +\n",
    "    labs(x = \"Density\", \n",
    "         y = \"Alcohol\",\n",
    "         color = \"Quality\") +\n",
    "    scale_color_manual(values = c(\"green\", \"red\")) +\n",
    "    theme(text = element_text(size = 15))+\n",
    "ggtitle(\"Alcohol vs Density\")\n",
    "density_alcohol"
   ]
  },
  {
   "cell_type": "code",
   "execution_count": null,
   "metadata": {},
   "outputs": [],
   "source": [
    "pH_alcohol <- redwine_train %>%\n",
    "    ggplot(aes(x = pH, y = alcohol, color = quality)) +\n",
    "    geom_point(alpha = 0.8, size = 3) +\n",
    "    labs(x = \"pH\", \n",
    "         y = \"Alcohol\",\n",
    "         color = \"Quality\") +\n",
    "    scale_color_manual(values = c(\"green\", \"red\")) +\n",
    "    theme(text = element_text(size = 15)) +\n",
    "ggtitle(\"Alcohol vs pH\")\n",
    "\n",
    "pH_alcohol"
   ]
  },
  {
   "cell_type": "code",
   "execution_count": null,
   "metadata": {},
   "outputs": [],
   "source": [
    "sulphates_alcohol <- redwine_train %>%\n",
    "    ggplot(aes(x = sulphates, y = alcohol, color = quality)) +\n",
    "    geom_point(alpha = 0.8, size = 3) +\n",
    "    labs(x = \"Sulphates\", \n",
    "         y = \"Alcohol\",\n",
    "         color = \"Quality\") +\n",
    "    scale_color_manual(values = c(\"green\", \"red\")) +\n",
    "    theme(text = element_text(size = 15)) +\n",
    "ggtitle(\"Alcohol vs Sulphates\")\n",
    "sulphates_alcohol"
   ]
  },
  {
   "cell_type": "markdown",
   "metadata": {},
   "source": [
    "Additionally, we used two other variables on the y-axis to observe any existing strong relationship between any two x-variables."
   ]
  },
  {
   "cell_type": "code",
   "execution_count": null,
   "metadata": {},
   "outputs": [],
   "source": [
    "volatile_acidity_density <- redwine_train %>%\n",
    "    ggplot(aes(x = volatile_acidity, y = density, color = quality)) +\n",
    "    geom_point(alpha = 0.8, size = 3) +\n",
    "    labs(x = \"Density\", \n",
    "         y = \"Volatile Acidity\",\n",
    "         color = \"Quality\") +\n",
    "    scale_color_manual(values = c(\"green\", \"red\")) +\n",
    "    theme(text = element_text(size = 15)) +\n",
    "ggtitle(\"Volatile Acidity vs Density\")\n",
    "\n",
    "volatile_acidity_density"
   ]
  },
  {
   "cell_type": "code",
   "execution_count": null,
   "metadata": {},
   "outputs": [],
   "source": [
    "residual_sugar_citric_acid <- redwine_train %>%\n",
    "    ggplot(aes(x = residual_sugar, y = citric_acid, color = quality)) +\n",
    "    geom_point(alpha = 0.8, size = 3) +\n",
    "    labs(x = \"Residual Sugar\", \n",
    "         y = \"Citric Acid\",\n",
    "         color = \"Quality\") +\n",
    "    scale_color_manual(values = c(\"green\", \"red\")) +\n",
    "    theme(text = element_text(size = 15)) +\n",
    "ggtitle(\"Residual Sugar vs Citric Acid\")\n",
    "residual_sugar_citric_acid"
   ]
  },
  {
   "cell_type": "markdown",
   "metadata": {},
   "source": [
    "From the graphs above, we argue that a good trend is observed when 'total sulfur dioxide' and 'density' are each plotted against 'alcohol'. Notably, these three variables exhibit a strong to a moderate pattern, where a significant portion of the good-quality wines are clustered in the upper left corner, and the bad-quality wines are concentrated in the lower-left corner. Therefore, we decided to use 'alcohol,' 'total sulfur dioxide,' and 'density' as predicting variables.\n",
    "\n",
    "A weak trend is observed for all other variables since most red and green plots overlap. "
   ]
  },
  {
   "cell_type": "markdown",
   "metadata": {},
   "source": [
    "## Methods\n",
    "When performing our predictive analysis, we first scale our training dataset to better visually predict the quality of an unknown wine. We do this by using the recipe function, where quality is the categorial label variable and 'alcohol,' 'total sulfur dioxide,' and 'density' are predictors. \n",
    "\n",
    "We will conduct a 5-fold cross-validation and tune the model to improve our models' accuracy to collect the workflow's metrics. We then plot the k-values against accuracy to obtain the k-value with the highest accuracy. Using this k-value and specifying 'weight_func = rectangular,' we recreate our knn-spec function. Subsequently, the model's accuracy will be tested using our testing data set, and if the accuracy is above 80, the model will be used to predict the quality of the unknown observation. Otherwise, we will use fewer predictors then repeat the process until the accuracy exceeds 80.\n",
    "\n",
    "Finally, we plan on using a scatter plot because there is a correlation between the x and y continuous variables. The plots representing good-quality wine will be shown in green, whereas the bad-quality wines will be shown in red. In this way, we aim to make our graph as colour-friendly and interpretable as possible.  "
   ]
  },
  {
   "cell_type": "code",
   "execution_count": null,
   "metadata": {},
   "outputs": [],
   "source": [
    "redwine_train"
   ]
  },
  {
   "cell_type": "code",
   "execution_count": null,
   "metadata": {},
   "outputs": [],
   "source": [
    "#Note: the step for creating the 60/40 split of the training data into a training and validation set has already been performed near the beginning of this project analysis\n",
    "#Goal: Use multiple different train/validation splits to attain a good estimate of accuracy and determine an optimal K parameter to use\n",
    "\n",
    "#Cross validation\n",
    "redwine_vfold <- vfold_cv(redwine_train, v = 5, strata = quality)\n",
    "\n",
    "#Preprocess the data using only the training set\n",
    "redwine_recipe <- recipe(quality ~ alcohol + total_sulfur_dioxide + density,\n",
    "                         data = redwine_train) %>%\n",
    "    step_scale(all_predictors()) %>%   \n",
    "    step_center(all_predictors())\n",
    "\n",
    "#tune the model's K parameter\n",
    "knn_spec <- nearest_neighbor(weight_func = \"rectangular\", neighbors = tune()) %>%\n",
    "    set_engine(\"kknn\") %>%\n",
    "    set_mode(\"classification\")\n",
    "\n",
    "#get a K value using tune and gridvals\n",
    "k_vals <- tibble(neighbors = seq(from = 1, to = 100, by = 5))\n",
    "\n",
    "#create a workflow\n",
    "knn_results<- workflow() %>%\n",
    "    add_recipe(redwine_recipe) %>%\n",
    "    add_model(knn_spec) %>%\n",
    "    tune_grid(resamples = redwine_vfold, grid = k_vals) %>%\n",
    "\n",
    "collect_metrics()\n",
    "\n",
    "#determine the accuracy of the estimates\n",
    "accuracies <- knn_results %>%\n",
    "    filter(.metric == \"accuracy\")\n",
    "accuracies\n",
    "\n",
    "#create a plot of estimated accuracy vs the # of neighbors\n",
    "accuracy_vs_k <- ggplot(accuracies, aes(x = neighbors, y = mean)) +\n",
    "  geom_point() +\n",
    "  geom_line() +\n",
    "  labs(x = \"Neighbors\", y = \"Accuracy Estimate\") + \n",
    "  theme(text = element_text(size = 12))\n",
    "accuracy_vs_k"
   ]
  },
  {
   "cell_type": "markdown",
   "metadata": {},
   "source": [
    "by printing the table for \"accuracies,\" the highest mean value observed is for row 18 \n",
    "or, equivalently, when the K parameter is equal to 96. Note that it has a standard error\n",
    "of 0.0218 and a pure mean of 0.717. But due to standard error, this means that the mean \n",
    "could be either 0.739 or 0.695, representing the notion of distance between our \n",
    "predicted and true categorical variable values."
   ]
  },
  {
   "cell_type": "code",
   "execution_count": null,
   "metadata": {},
   "outputs": [],
   "source": [
    "print(accuracies, n = 100)"
   ]
  },
  {
   "cell_type": "markdown",
   "metadata": {},
   "source": [
    "The model's highest accuracy obtained is 71.7% when predicting the quality of the unknown observation of red wine, classifying it as either good or bad quality based on the three predictor variables: alcohol, total sulfur dioxide, and density. \n",
    "\n",
    "NOTE TO SELF: Measurements will later be undertaken to see if this percentage accuracy can be raised to around 80%, but for now the data analysis will continue."
   ]
  },
  {
   "cell_type": "code",
   "execution_count": null,
   "metadata": {},
   "outputs": [],
   "source": [
    "#Goal: Train our classifier based on the training set using the obtained optimal K \n",
    "#value of 86 to see if it can appropriately predict observations from a test set. \n",
    "\n",
    "#Preprocess the data using only the training set (same step as before, but iterated for readability)\n",
    "redwine_recipe <- recipe(quality ~ alcohol + total_sulfur_dioxide + density,\n",
    "                         data = redwine_train) %>%\n",
    "    step_scale(all_predictors()) %>%   \n",
    "    step_center(all_predictors())\n",
    "\n",
    "#Train the classifier\n",
    "knn2_spec <- nearest_neighbor(weight_func = \"rectangular\", neighbors = 96) %>%\n",
    "    set_engine(\"kknn\") %>%\n",
    "    set_mode(\"classification\")\n",
    "\n",
    "#Create the workflow\n",
    "knn2_fit <- workflow() %>%\n",
    "    add_recipe(redwine_recipe) %>%\n",
    "    add_model(knn2_spec) %>%\n",
    "    fit(data = redwine_train)\n",
    "knn2_fit\n",
    "\n",
    "#Predict the labels in the test set\n",
    "redwine_test_predictions <- predict(knn2_fit, redwine_test) %>%\n",
    "    bind_cols(redwine_test)\n",
    "redwine_test_predictions\n",
    "\n",
    "#Compute the accuracy\n",
    "redwine_test_predictions %>%\n",
    "    metrics(truth = quality, estimate = .pred_class) %>%\n",
    "    filter(.metric == \"accuracy\") "
   ]
  },
  {
   "cell_type": "code",
   "execution_count": null,
   "metadata": {},
   "outputs": [],
   "source": [
    "confusion <- redwine_test_predictions %>%\n",
    "    conf_mat(truth = quality, estimate = .pred_class)\n",
    "confusion"
   ]
  },
  {
   "cell_type": "markdown",
   "metadata": {},
   "source": [
    "The confusion matrix above shows 247 observations that were correctly predicted as 'good,' and 202 observations that were correctly predicted as 'bad' quality of red wine. Consequently, the classifier has labelled 247 + 202 = 449 observations correctly. However, despite this fact, the classifier was not perfect and made mistakes; to elaborate, the classifier incorrectly labelled 95 observations as bad when they were good, and incorrectly labelled 95 observations as good when they were bad. To determine the percent of inaccurate observations as bad when they were in reality good, divide the total number of inaccurate observations as bad when they were good by the total number of observations, like such: 95/639 = answer x 100 = 14.9%. To determine the percent of inaccurate observations as good when they were bad, divide the total number of inaccurate observations as good when they were bad by the total number of observations, like such: 95/639 = answer x 100 = 14.9%. When adding the prior two percentages, as follows: 14.9 + 14.9 = 29.8%, we see that the total percentage inaccuracy (rounded to the first decimal place) is 29.8%. This confusion matrix demonstrates the same information as the .estimate, which is that the classifier has an accuracy of 70.3% or an inaccuracy of 29.8% when predicting on newly observed data regarding the quality of red wine. Further, this specific matrix reveals in a succint way exactly how many observations were correctly predicted and for which categories, and vice versa. "
   ]
  },
  {
   "cell_type": "markdown",
   "metadata": {},
   "source": [
    "## Expected Outcomes and Significance\n",
    "We expect to find that the quality of red wine increases as alcohol content increases but decreases as density and sulfur dioxide increase. If the previous statement is true, this may be applicable for red wine consumers searching for purer and better alcohol with lower intoxicating effects and harmful chemical content. This potential outcome raises a health concern for red wine consumers, leading to the question for winemakers: Is there a way to remove the need to use sulfur dioxide in wine and lower the density? "
   ]
  }
 ],
 "metadata": {
  "kernelspec": {
   "display_name": "R",
   "language": "R",
   "name": "ir"
  },
  "language_info": {
   "codemirror_mode": "r",
   "file_extension": ".r",
   "mimetype": "text/x-r-source",
   "name": "R",
   "pygments_lexer": "r",
   "version": "4.0.0"
  }
 },
 "nbformat": 4,
 "nbformat_minor": 4
}
